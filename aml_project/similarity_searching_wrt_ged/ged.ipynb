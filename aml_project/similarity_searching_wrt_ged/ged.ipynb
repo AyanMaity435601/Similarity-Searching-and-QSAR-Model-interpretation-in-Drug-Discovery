{
 "cells": [
  {
   "cell_type": "markdown",
   "metadata": {},
   "source": [
    "##  <span style = \"color : lightgreen\"> Importing Libraries :</span>"
   ]
  },
  {
   "cell_type": "code",
   "execution_count": 1,
   "metadata": {},
   "outputs": [],
   "source": [
    "import pandas as pd\n",
    "import numpy as np\n",
    "import networkx as nx\n",
    "from rdkit import Chem\n",
    "import os\n",
    "from rdkit.Chem import Draw\n",
    "import matplotlib.pyplot as plt"
   ]
  },
  {
   "cell_type": "markdown",
   "metadata": {},
   "source": [
    "##  <span style = \"color : lightgreen\"> Data Reading :</span>"
   ]
  },
  {
   "cell_type": "code",
   "execution_count": 3,
   "metadata": {},
   "outputs": [],
   "source": [
    "\n",
    "df=pd.read_excel('./dataset/flurophores_mdrug_natproduct_recon2_151443.xlsx')"
   ]
  },
  {
   "cell_type": "markdown",
   "metadata": {},
   "source": [
    "##  <span style = \"color : lightgreen\"> Extracting Drugs :</span>"
   ]
  },
  {
   "cell_type": "code",
   "execution_count": 4,
   "metadata": {},
   "outputs": [
    {
     "data": {
      "text/html": [
       "<div>\n",
       "<style scoped>\n",
       "    .dataframe tbody tr th:only-of-type {\n",
       "        vertical-align: middle;\n",
       "    }\n",
       "\n",
       "    .dataframe tbody tr th {\n",
       "        vertical-align: top;\n",
       "    }\n",
       "\n",
       "    .dataframe thead th {\n",
       "        text-align: right;\n",
       "    }\n",
       "</style>\n",
       "<table border=\"1\" class=\"dataframe\">\n",
       "  <thead>\n",
       "    <tr style=\"text-align: right;\">\n",
       "      <th></th>\n",
       "      <th>name</th>\n",
       "      <th>type</th>\n",
       "      <th>smiles</th>\n",
       "    </tr>\n",
       "  </thead>\n",
       "  <tbody>\n",
       "    <tr>\n",
       "      <th>0</th>\n",
       "      <td>Orlistat</td>\n",
       "      <td>Drug</td>\n",
       "      <td>CCCCCCCCCCCC(CC1OC(=O)C1CCCCCC)OC(=O)C(CC(C)C)...</td>\n",
       "    </tr>\n",
       "    <tr>\n",
       "      <th>1</th>\n",
       "      <td>Aclidinium</td>\n",
       "      <td>Drug</td>\n",
       "      <td>O=C(OC1C[N+]2(CCCOc3ccccc3)CCC1CC2)C(O)(c1cccs...</td>\n",
       "    </tr>\n",
       "    <tr>\n",
       "      <th>2</th>\n",
       "      <td>Quinapril</td>\n",
       "      <td>Drug</td>\n",
       "      <td>CCOC(=O)C(CCc1ccccc1)NC(C)C(=O)N1Cc2ccccc2CC1C...</td>\n",
       "    </tr>\n",
       "    <tr>\n",
       "      <th>3</th>\n",
       "      <td>Fosaprepitant</td>\n",
       "      <td>Drug</td>\n",
       "      <td>CC(OC1OCCN(Cc2nc(=O)n(P(=O)(O)O)[nH]2)C1c1ccc(...</td>\n",
       "    </tr>\n",
       "    <tr>\n",
       "      <th>4</th>\n",
       "      <td>Anisindione</td>\n",
       "      <td>Drug</td>\n",
       "      <td>COc1ccc(C2C(=O)c3ccccc3C2=O)cc1</td>\n",
       "    </tr>\n",
       "    <tr>\n",
       "      <th>5</th>\n",
       "      <td>Sulindac</td>\n",
       "      <td>Drug</td>\n",
       "      <td>CC1=C(CC(=O)O)c2cc(F)ccc2C1=Cc1ccc(S(C)=O)cc1</td>\n",
       "    </tr>\n",
       "    <tr>\n",
       "      <th>6</th>\n",
       "      <td>Triamcinolone</td>\n",
       "      <td>Drug</td>\n",
       "      <td>CC12C=CC(=O)C=C1CCC1C3CC(O)C(O)(C(=O)CO)C3(C)C...</td>\n",
       "    </tr>\n",
       "    <tr>\n",
       "      <th>7</th>\n",
       "      <td>Methoxsalen</td>\n",
       "      <td>Drug</td>\n",
       "      <td>COc1c2occc2cc2ccc(=O)oc12</td>\n",
       "    </tr>\n",
       "    <tr>\n",
       "      <th>8</th>\n",
       "      <td>Aprepitant</td>\n",
       "      <td>Drug</td>\n",
       "      <td>CC(OC1OCCN(Cc2n[nH]c(=O)[nH]2)C1c1ccc(F)cc1)c1...</td>\n",
       "    </tr>\n",
       "    <tr>\n",
       "      <th>9</th>\n",
       "      <td>Moexipril</td>\n",
       "      <td>Drug</td>\n",
       "      <td>CCOC(=O)C(CCc1ccccc1)NC(C)C(=O)N1Cc2cc(OC)c(OC...</td>\n",
       "    </tr>\n",
       "  </tbody>\n",
       "</table>\n",
       "</div>"
      ],
      "text/plain": [
       "            name  type                                             smiles\n",
       "0       Orlistat  Drug  CCCCCCCCCCCC(CC1OC(=O)C1CCCCCC)OC(=O)C(CC(C)C)...\n",
       "1     Aclidinium  Drug  O=C(OC1C[N+]2(CCCOc3ccccc3)CCC1CC2)C(O)(c1cccs...\n",
       "2      Quinapril  Drug  CCOC(=O)C(CCc1ccccc1)NC(C)C(=O)N1Cc2ccccc2CC1C...\n",
       "3  Fosaprepitant  Drug  CC(OC1OCCN(Cc2nc(=O)n(P(=O)(O)O)[nH]2)C1c1ccc(...\n",
       "4    Anisindione  Drug                    COc1ccc(C2C(=O)c3ccccc3C2=O)cc1\n",
       "5       Sulindac  Drug      CC1=C(CC(=O)O)c2cc(F)ccc2C1=Cc1ccc(S(C)=O)cc1\n",
       "6  Triamcinolone  Drug  CC12C=CC(=O)C=C1CCC1C3CC(O)C(O)(C(=O)CO)C3(C)C...\n",
       "7    Methoxsalen  Drug                          COc1c2occc2cc2ccc(=O)oc12\n",
       "8     Aprepitant  Drug  CC(OC1OCCN(Cc2n[nH]c(=O)[nH]2)C1c1ccc(F)cc1)c1...\n",
       "9      Moexipril  Drug  CCOC(=O)C(CCc1ccccc1)NC(C)C(=O)N1Cc2cc(OC)c(OC..."
      ]
     },
     "execution_count": 4,
     "metadata": {},
     "output_type": "execute_result"
    }
   ],
   "source": [
    "df_drug=df[df['type']=='Drug']\n",
    "df_drug.head(10)"
   ]
  },
  {
   "cell_type": "markdown",
   "metadata": {},
   "source": [
    "#  <span style = \"color : red\"> Graph Edit Distance Between Two SMILE</span>"
   ]
  },
  {
   "cell_type": "markdown",
   "metadata": {},
   "source": [
    "##  <span style = \"color : lightgreen\"> Converting Molecular SMILES into Graphs :</span>"
   ]
  },
  {
   "cell_type": "code",
   "execution_count": 35,
   "metadata": {},
   "outputs": [],
   "source": [
    "\n",
    "\n",
    "def get_graph(mol):\n",
    "    # Get atoms and adjacency matrix\n",
    "    atoms = [a.GetAtomicNum() for a in mol.GetAtoms()]\n",
    "    adj_matrix = Chem.GetAdjacencyMatrix(mol)\n",
    "    \n",
    "    # Convert adjacency matrix to numpy array\n",
    "    am = np.zeros((len(atoms), len(atoms)))\n",
    "    for bond in mol.GetBonds():\n",
    "        i = bond.GetBeginAtomIdx()\n",
    "        j = bond.GetEndAtomIdx()\n",
    "        am[i, j] = am[j, i] = bond.GetBondTypeAsDouble()\n",
    "    \n",
    "    # Create a graph from the adjacency matrix\n",
    "    G = nx.from_numpy_array(am)\n",
    "    \n",
    "    return G"
   ]
  },
  {
   "cell_type": "markdown",
   "metadata": {},
   "source": [
    "##  <span style = \"color : lightgreen\"> Graph Edit Distance Between Two SMILES :</span>"
   ]
  },
  {
   "cell_type": "code",
   "execution_count": 36,
   "metadata": {},
   "outputs": [],
   "source": [
    "def ged_from_two_smiles(s1,s2,termination_time):\n",
    "   \n",
    "    mol1 = Chem.MolFromSmiles(s1)\n",
    "    mol2 = Chem.MolFromSmiles(s2) \n",
    "\n",
    "    G1 = get_graph(mol1)\n",
    "    G2 = get_graph(mol2)\n",
    "    GED = nx.graph_edit_distance(G1, G2, edge_match=lambda a,b: a['weight'] == b['weight'],timeout=termination_time)\n",
    "    return GED"
   ]
  },
  {
   "cell_type": "markdown",
   "metadata": {},
   "source": [
    "##  <span style = \"color : lightgreen\"> Graph Edit Distance Between Two Molecular Graphs :</span>"
   ]
  },
  {
   "cell_type": "code",
   "execution_count": 37,
   "metadata": {},
   "outputs": [],
   "source": [
    "def ged_from_two_graphs(G1,G2,termination_time):\n",
    "\n",
    "    GED = nx.graph_edit_distance(G1, G2, edge_match=lambda a,b: a['weight'] == b['weight'],timeout=termination_time)\n",
    "    return GED"
   ]
  },
  {
   "cell_type": "markdown",
   "metadata": {},
   "source": [
    "####  <span style = \"color : orange\"> Testing With Some Examples :</span>"
   ]
  },
  {
   "cell_type": "code",
   "execution_count": 38,
   "metadata": {},
   "outputs": [
    {
     "name": "stdout",
     "output_type": "stream",
     "text": [
      "7.0\n"
     ]
    }
   ],
   "source": [
    "mol1 = Chem.MolFromSmiles('CCO')\n",
    "mol2 = Chem.MolFromSmiles('C=CC=CC=C') \n",
    "\n",
    "G1 = get_graph(mol1)\n",
    "G2 = get_graph(mol2)\n",
    "\n",
    "GED = nx.graph_edit_distance(G1, G2, edge_match=lambda a,b: a['weight'] == b['weight'])\n",
    "print(GED)"
   ]
  },
  {
   "cell_type": "markdown",
   "metadata": {},
   "source": [
    "##  <span style = \"color : lightgreen\"> Graph Edit Distance Between The Drugs In My Dataset :</span>"
   ]
  },
  {
   "cell_type": "code",
   "execution_count": null,
   "metadata": {},
   "outputs": [],
   "source": [
    "termination_time=0.1\n",
    "num_molecules = len(df_drug)\n",
    "ged_matrix = np.zeros((num_molecules, num_molecules))\n",
    "\n",
    "for i in range(num_molecules):\n",
    "    mol1 = Chem.MolFromSmiles(df_drug['smiles'][i])\n",
    "    G1 = get_graph(mol1)\n",
    "    for j in range(num_molecules):\n",
    "        mol2 = Chem.MolFromSmiles(df_drug['smiles'][j])\n",
    "        G2 = get_graph(mol2)\n",
    "\n",
    "        # Calculate graph edit distance\n",
    "        GED = ged_from_two_graphs(G1,G2,termination_time)\n",
    "       \n",
    "        # Store GED in the matrix\n",
    "        ged_matrix[i, j] = GED\n",
    "        np.savetxt(\"graph_edit_distance_matrix.csv\", ged_matrix, delimiter=\",\")"
   ]
  },
  {
   "cell_type": "code",
   "execution_count": 39,
   "metadata": {},
   "outputs": [],
   "source": [
    "ged_df = pd.read_csv('graph_edit_distance_matrix.csv', header=None)\n",
    "drug_names = df_drug['name'].tolist()\n",
    "ged_df.columns = drug_names\n",
    "ged_df.index = drug_names\n",
    "\n",
    "ged_df.to_csv('graph_edit_distance.csv', index=True)\n"
   ]
  },
  {
   "cell_type": "code",
   "execution_count": 40,
   "metadata": {},
   "outputs": [
    {
     "name": "stdout",
     "output_type": "stream",
     "text": [
      "Adjusted GED matrix shape: (1357, 1357)\n",
      "Number of drug names after adjustment: 1357\n",
      "Top 5 similar SMILES saved to 'top_5_similar_smiles.csv'\n"
     ]
    }
   ],
   "source": [
    "ged_matrix = pd.read_csv(\"graph_edit_distance.csv\", index_col=0)\n",
    "drug_names = df_drug['name'].tolist()\n",
    "drug_smiles = df_drug['smiles'].tolist()\n",
    "\n",
    "name_to_smiles = dict(zip(drug_names, drug_smiles))\n",
    "ged_matrix.columns = drug_names\n",
    "ged_matrix.index = drug_names\n",
    "print(f\"Adjusted GED matrix shape: {ged_matrix.shape}\")\n",
    "print(f\"Number of drug names after adjustment: {len(drug_names)}\")\n",
    "\n",
    "top_5_similar_smiles = pd.DataFrame(index=ged_matrix.index, columns=['Top1', 'Top2', 'Top3', 'Top4', 'Top5'])\n",
    "\n",
    "for index, row in ged_matrix.iterrows():\n",
    "    top_5_indices = row[row > 0].nsmallest(5).index\n",
    "    top_5_smiles = [name_to_smiles[name] for name in top_5_indices]\n",
    "    if len(top_5_smiles) < 5:\n",
    "        top_5_smiles += [None] * (5 - len(top_5_smiles))\n",
    "    top_5_similar_smiles.loc[index] = top_5_smiles\n",
    "\n",
    "# Save the results to a new CSV file\n",
    "top_5_similar_smiles.to_csv(\"top_5_similar_smiles.csv\")\n",
    "print(\"Top 5 similar SMILES saved to 'top_5_similar_smiles.csv'\")\n"
   ]
  },
  {
   "cell_type": "code",
   "execution_count": 41,
   "metadata": {},
   "outputs": [],
   "source": [
    "top_5_similar = pd.DataFrame(index=ged_matrix.index, columns=['Top1', 'Top2', 'Top3', 'Top4', 'Top5'])\n",
    "top_5_similar_distances = pd.DataFrame(index=ged_matrix.index, columns=['Dist1', 'Dist2', 'Dist3', 'Dist4', 'Dist5'])\n",
    "\n",
    "for index, row in ged_matrix.iterrows():\n",
    "    top_5_indices = row[row > 0].nsmallest(5).index\n",
    "    top_5_distances = row[row > 0].nsmallest(5).values\n",
    "    if len(top_5_indices) < 5:\n",
    "        top_5_indices = list(top_5_indices) + [None] * (5 - len(top_5_indices))\n",
    "        top_5_distances = list(top_5_distances) + [None] * (5 - len(top_5_distances))\n",
    "    top_5_similar.loc[index] = top_5_indices\n",
    "    top_5_similar_distances.loc[index] = top_5_distances\n",
    "\n",
    "# Output directory\n",
    "output_directory = 'Similar_Smiles_GED'\n",
    "os.makedirs(output_directory, exist_ok=True)\n",
    "\n",
    "# Function to draw molecules and save as images\n",
    "def draw_similar_smiles(main_smile, main_name, similar_smiles, similar_names, distances):\n",
    "    mols = [Chem.MolFromSmiles(main_smile)] + [Chem.MolFromSmiles(smile) if smile else None for smile in similar_smiles]\n",
    "    titles = [f\"{main_name}\\n(Main Smile)\"] + [f\"{name}\\n({dist:.2f})\" if name and dist else \"N/A\" for name, dist in zip(similar_names, distances)]\n",
    "    \n",
    "    fig, axes = plt.subplots(1, 6, figsize=(20, 4))\n",
    "    \n",
    "    for ax, mol, title in zip(axes, mols, titles):\n",
    "        if mol:\n",
    "            img = Draw.MolToImage(mol, size=(300, 300))\n",
    "            ax.imshow(img)\n",
    "            ax.set_title(title, fontsize=10)\n",
    "            ax.axis('off')\n",
    "        else:\n",
    "            ax.text(0.5, 0.5, 'N/A', ha='center', va='center', fontsize=12, color='gray')\n",
    "            ax.axis('off')\n",
    "    \n",
    "    plt.tight_layout()\n",
    "    output_file = os.path.join(output_directory, f'{main_name}.png')\n",
    "    plt.savefig(output_file, bbox_inches='tight', pad_inches=0.1)\n",
    "    plt.close(fig)\n",
    "\n",
    "# Generate and save the images\n",
    "for main_name in top_5_similar.index:\n",
    "    main_smile = df_drug[df_drug['name'] == main_name]['smiles'].values[0]\n",
    "    similar_names = top_5_similar.loc[main_name].values\n",
    "    similar_smiles = [df_drug[df_drug['name'] == name]['smiles'].values[0] if name else None for name in similar_names]\n",
    "    distances = top_5_similar_distances.loc[main_name].values\n",
    "    draw_similar_smiles(main_smile, main_name, similar_smiles, similar_names, distances)"
   ]
  }
 ],
 "metadata": {
  "kernelspec": {
   "display_name": "Python 3",
   "language": "python",
   "name": "python3"
  },
  "language_info": {
   "codemirror_mode": {
    "name": "ipython",
    "version": 3
   },
   "file_extension": ".py",
   "mimetype": "text/x-python",
   "name": "python",
   "nbconvert_exporter": "python",
   "pygments_lexer": "ipython3",
   "version": "3.11.4"
  }
 },
 "nbformat": 4,
 "nbformat_minor": 2
}
